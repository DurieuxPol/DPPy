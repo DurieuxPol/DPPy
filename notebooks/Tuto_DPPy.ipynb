{
 "cells": [
  {
   "cell_type": "markdown",
   "metadata": {},
   "source": [
    "**DPPy** stands for \"DPPs in Python\". It is a Python Toolbox for sampling DPPs.\n",
    "\n",
    "If you use this this toolbox please consider citing the [corresponding JMLR-MLOSS companion paper](http://jmlr.org/papers/v20/19-179.html)\n",
    "\n",
    "In this notebook, we showcase the DPP samplers featured in DPPy, and highlight some of the tools behind the scene.\n",
    "  \n",
    "  [GitHub](https://github.com/guilgautier/DPPy)  \n",
    "  \n",
    "  [ReadTheDocs](https://dppy.readthedocs.io) [![Documentation Status](https://readthedocs.org/projects/dppy/badge/?version=latest)](https://dppy.readthedocs.io/en/latest/?badge=latest)\n",
    "  \n",
    "  [Travis](https://travis-ci.com/guilgautier/DPPy) [![Build Status](https://travis-ci.com/guilgautier/DPPy.svg?branch=master)](https://travis-ci.com/guilgautier/DPPy)\n",
    "  \n",
    "  [Coveralls](https://coveralls.io/github/guilgautier/DPPy) [![Coverage Status](https://coveralls.io/repos/github/guilgautier/DPPy/badge.svg?branch=master)](https://coveralls.io/github/guilgautier/DPPy?branch=master)\n",
    "  \n",
    "   [PyPI version](https://pypi.org/project/dppy/) [![PyPI version](https://badge.fury.io/py/dppy.svg)](https://badge.fury.io/py/dppy)"
   ]
  },
  {
   "cell_type": "markdown",
   "metadata": {
    "toc": "true"
   },
   "source": [
    "<h1>Table of Contents<span class=\"tocSkip\"></span></h1>\n",
    "<div class=\"toc\"><ul class=\"toc-item\"><li><span><a href=\"#Installing-the-package\" data-toc-modified-id=\"Installing-the-package-1\"><span class=\"toc-item-num\">1&nbsp;&nbsp;</span>Installing the package</a></span></li><li><span><a href=\"#Sample-DPPs-with-DPPy\" data-toc-modified-id=\"Sample-DPPs-with-DPPy-2\"><span class=\"toc-item-num\">2&nbsp;&nbsp;</span>Sample DPPs with DPPy</a></span><ul class=\"toc-item\"><li><span><a href=\"#Finite-DPPs\" data-toc-modified-id=\"Finite-DPPs-2.1\"><span class=\"toc-item-num\">2.1&nbsp;&nbsp;</span>Finite DPPs</a></span><ul class=\"toc-item\"><li><span><a href=\"#Instantiating-a-FiniteDPP-object\" data-toc-modified-id=\"Instantiating-a-FiniteDPP-object-2.1.1\"><span class=\"toc-item-num\">2.1.1&nbsp;&nbsp;</span>Instantiating a <code>FiniteDPP</code> object</a></span></li><li><span><a href=\"#Exact-sampling\" data-toc-modified-id=\"Exact-sampling-2.1.2\"><span class=\"toc-item-num\">2.1.2&nbsp;&nbsp;</span>Exact sampling</a></span></li><li><span><a href=\"#MCMC-sampling\" data-toc-modified-id=\"MCMC-sampling-2.1.3\"><span class=\"toc-item-num\">2.1.3&nbsp;&nbsp;</span>MCMC sampling</a></span></li></ul></li><li><span><a href=\"#$k$-DPPs\" data-toc-modified-id=\"$k$-DPPs-2.2\"><span class=\"toc-item-num\">2.2&nbsp;&nbsp;</span>$k$-DPPs</a></span><ul class=\"toc-item\"><li><span><a href=\"#Exact-sampling\" data-toc-modified-id=\"Exact-sampling-2.2.1\"><span class=\"toc-item-num\">2.2.1&nbsp;&nbsp;</span>Exact sampling</a></span></li><li><span><a href=\"#MCMC-sampling\" data-toc-modified-id=\"MCMC-sampling-2.2.2\"><span class=\"toc-item-num\">2.2.2&nbsp;&nbsp;</span>MCMC sampling</a></span></li></ul></li><li><span><a href=\"#Exotic-DPPs\" data-toc-modified-id=\"Exotic-DPPs-2.3\"><span class=\"toc-item-num\">2.3&nbsp;&nbsp;</span>Exotic DPPs</a></span><ul class=\"toc-item\"><li><span><a href=\"#Uniform-Spanning-Trees\" data-toc-modified-id=\"Uniform-Spanning-Trees-2.3.1\"><span class=\"toc-item-num\">2.3.1&nbsp;&nbsp;</span>Uniform Spanning Trees</a></span></li><li><span><a href=\"#The-Poissonized-Plancherel-measure\" data-toc-modified-id=\"The-Poissonized-Plancherel-measure-2.3.2\"><span class=\"toc-item-num\">2.3.2&nbsp;&nbsp;</span>The Poissonized Plancherel measure</a></span></li><li><span><a href=\"#The-Carries-Process\" data-toc-modified-id=\"The-Carries-Process-2.3.3\"><span class=\"toc-item-num\">2.3.3&nbsp;&nbsp;</span>The Carries Process</a></span></li></ul></li><li><span><a href=\"#$\\beta$-ensembles\" data-toc-modified-id=\"$\\beta$-ensembles-2.4\"><span class=\"toc-item-num\">2.4&nbsp;&nbsp;</span>$\\beta$-ensembles</a></span><ul class=\"toc-item\"><li><span><a href=\"#The-circular-ensemble\" data-toc-modified-id=\"The-circular-ensemble-2.4.1\"><span class=\"toc-item-num\">2.4.1&nbsp;&nbsp;</span>The circular ensemble</a></span></li><li><span><a href=\"#The-Hermite-ensemble\" data-toc-modified-id=\"The-Hermite-ensemble-2.4.2\"><span class=\"toc-item-num\">2.4.2&nbsp;&nbsp;</span>The Hermite ensemble</a></span></li><li><span><a href=\"#The-Laguerre-ensemble\" data-toc-modified-id=\"The-Laguerre-ensemble-2.4.3\"><span class=\"toc-item-num\">2.4.3&nbsp;&nbsp;</span>The Laguerre ensemble</a></span></li><li><span><a href=\"#The-Jacobi-ensemble\" data-toc-modified-id=\"The-Jacobi-ensemble-2.4.4\"><span class=\"toc-item-num\">2.4.4&nbsp;&nbsp;</span>The Jacobi ensemble</a></span></li><li><span><a href=\"#The-Ginibre-ensemble\" data-toc-modified-id=\"The-Ginibre-ensemble-2.4.5\"><span class=\"toc-item-num\">2.4.5&nbsp;&nbsp;</span>The Ginibre ensemble</a></span></li></ul></li></ul></li><li><span><a href=\"#Tools-behind-the-scene\" data-toc-modified-id=\"Tools-behind-the-scene-3\"><span class=\"toc-item-num\">3&nbsp;&nbsp;</span>Tools behind the scene</a></span></li></ul></div>"
   ]
  },
  {
   "cell_type": "markdown",
   "metadata": {
    "colab_type": "text",
    "id": "E0cVmV86s2js"
   },
   "source": [
    "# Installing the package\n",
    "---\n",
    "\n",
    "**Here are the detailed [INSTALLATION INSTRUCTIONS](https://github.com/guilgautier/DPPy#installation) of DPPy**"
   ]
  },
  {
   "cell_type": "markdown",
   "metadata": {},
   "source": [
    "💣 **Note:** \n",
    "- If you have not installed the package yet or\n",
    "- if are using Google Colab'\n",
    "\n",
    "you can uncomment and run one of the following cells."
   ]
  },
  {
   "cell_type": "markdown",
   "metadata": {},
   "source": [
    "To install the last version available on PyPI you can use [![PyPI version](https://badge.fury.io/py/dppy.svg)](https://badge.fury.io/py/dppy) "
   ]
  },
  {
   "cell_type": "code",
   "execution_count": 1,
   "metadata": {},
   "outputs": [],
   "source": [
    "# !pip install dppy"
   ]
  },
  {
   "cell_type": "markdown",
   "metadata": {},
   "source": [
    "💣 **Note: The version available on PyPI might not be the latest version of DPPy.\n",
    "Please consider forking or cloning DPPy using**"
   ]
  },
  {
   "cell_type": "code",
   "execution_count": 2,
   "metadata": {
    "colab": {},
    "colab_type": "code",
    "id": "_jrm6FSHvGhI"
   },
   "outputs": [],
   "source": [
    "# !rm -r DPPy\n",
    "# !git clone https://github.com/guilgautier/DPPy.git\n",
    "# !pip install scipy --upgrade\n",
    "\n",
    "# Then\n",
    "# !pip install DPPy/. \n",
    "# OR\n",
    "# !pip install DPPy/.['zonotope','trees','docs'] to perform a full installation."
   ]
  },
  {
   "cell_type": "markdown",
   "metadata": {},
   "source": [
    "💣 If you have chosen to clone the repo and now wish to interact with the source code while running this notebook.\n",
    "You can uncomment the following cell."
   ]
  },
  {
   "cell_type": "code",
   "execution_count": 3,
   "metadata": {},
   "outputs": [],
   "source": [
    "%reload_ext autoreload\n",
    "%autoreload 2\n",
    "import os\n",
    "import sys\n",
    "sys.path.insert(0, os.path.abspath('../tests'))\n",
    "sys.path.insert(0, os.path.abspath('..'))"
   ]
  },
  {
   "cell_type": "code",
   "execution_count": 4,
   "metadata": {},
   "outputs": [],
   "source": [
    "import numpy as np\n",
    "import matplotlib.pyplot as plt\n",
    "\n",
    "%config InlineBackend.figure_format='retina'"
   ]
  },
  {
   "cell_type": "markdown",
   "metadata": {
    "colab_type": "text",
    "id": "DW4H9Mr8yKZx"
   },
   "source": [
    "# Sample DPPs with DPPy\n",
    "----\n",
    "\n",
    "The two basic methods of each DPPy object are\n",
    "**`.sample()`** and \n",
    "**`.plot()`**."
   ]
  },
  {
   "cell_type": "markdown",
   "metadata": {
    "colab_type": "text",
    "id": "zQeHhkxZCewN"
   },
   "source": [
    "## Finite DPPs\n",
    "\n",
    "We refer to the [documentation](https://dppy.readthedocs.io/en/latest/finite_dpps/index.html) for more details and definitions."
   ]
  },
  {
   "cell_type": "code",
   "execution_count": 5,
   "metadata": {
    "colab": {},
    "colab_type": "code",
    "id": "aroOJu9vFXOn"
   },
   "outputs": [],
   "source": [
    "from numpy.random import rand, randn\n",
    "from scipy.linalg import qr\n",
    "\n",
    "from dppy.finite_dpps import FiniteDPP\n",
    "from dppy.utils import example_eval_L_linear\n",
    "from tests.test_finite_dpps_samplers import TestAdequationOfFiniteDppSamplers"
   ]
  },
  {
   "cell_type": "markdown",
   "metadata": {
    "colab_type": "text",
    "id": "O9PX6gXkYCLZ"
   },
   "source": [
    "### Instantiating a `FiniteDPP` object"
   ]
  },
  {
   "cell_type": "markdown",
   "metadata": {
    "colab_type": "text",
    "id": "wYxj7IepX7ag"
   },
   "source": [
    "You can define a finite DPP through its correlation kernel $\\mathbf{K}\n",
    "\\in\\mathbb{R}^{N\\times N}$. In that case, we write $\\mathcal{X}\\sim DPP(\\mathbf{K})$ to mean\n",
    "$$\\qquad \\mathbb{P}[S \\subseteq \\mathcal{X}] = \\det \\mathbf{K}_S.$$"
   ]
  },
  {
   "cell_type": "markdown",
   "metadata": {},
   "source": [
    "To illustrate the various ways of defining a `FiniteDPP`, we create a bunch of eigenvalues and eigenvectors for $\\mathbf{K}$, which we take here to be symmetric."
   ]
  },
  {
   "cell_type": "code",
   "execution_count": 6,
   "metadata": {
    "colab": {},
    "colab_type": "code",
    "id": "yx3ajc1HGxOf"
   },
   "outputs": [
    {
     "name": "stdout",
     "output_type": "stream",
     "text": [
      "[0.37078586 0.31979035 0.70119263 0.35203916 0.95627649]\n"
     ]
    },
    {
     "data": {
      "text/plain": [
       "(5,)"
      ]
     },
     "execution_count": 6,
     "metadata": {},
     "output_type": "execute_result"
    }
   ],
   "source": [
    "r, N = 5, 10\n",
    "\n",
    "# Random orthogonal vectors\n",
    "eig_vecs, _ = qr(randn(N, r), mode='economic')\n",
    "# Random eigenvalues1\n",
    "eig_vals = rand(r)  # 0< <1\n",
    "#eig_vals = np.random.randint(2, size=r) # 0 or 1 i.e. projection\n",
    "print(eig_vals)\n",
    "eig_vals.shape"
   ]
  },
  {
   "cell_type": "code",
   "execution_count": 7,
   "metadata": {},
   "outputs": [
    {
     "data": {
      "text/plain": [
       "(10, 5)"
      ]
     },
     "execution_count": 7,
     "metadata": {},
     "output_type": "execute_result"
    }
   ],
   "source": [
    "(eig_vecs*eig_vals).shape"
   ]
  },
  {
   "cell_type": "code",
   "execution_count": 8,
   "metadata": {},
   "outputs": [
    {
     "name": "stdout",
     "output_type": "stream",
     "text": [
      "K (correlation) kernel computed via:\n",
      "- U diag(eig_K) U.T\n"
     ]
    },
    {
     "data": {
      "image/png": "[encoded data removed]",
      "text/plain": [
       "<Figure size 640x480 with 2 Axes>"
      ]
     },
     "metadata": {
      "image/png": {
       "height": 413,
       "width": 495
      }
     },
     "output_type": "display_data"
    }
   ],
   "source": [
    "DPP = FiniteDPP('correlation',\n",
    "                **{'K_eig_dec': (eig_vals, eig_vecs)})\n",
    "DPP.plot_kernel()"
   ]
  },
  {
   "cell_type": "markdown",
   "metadata": {
    "colab_type": "text",
    "id": "Vvkfom6rY250"
   },
   "source": [
    "You can first define a `FiniteDPP`through its kernel itself, provided\n",
    "$$\\qquad 0 \\preceq \\mathbf{K} \\preceq I$$\n",
    "to guarantee the existence of the DPP."
   ]
  },
  {
   "cell_type": "code",
   "execution_count": 9,
   "metadata": {},
   "outputs": [
    {
     "data": {
      "text/plain": [
       "array([[ 0.16245282, -0.02198591, -0.02268344,  0.07678699,  0.02208636,\n",
       "         0.11702765, -0.10116621, -0.0094003 , -0.00706982, -0.10249088],\n",
       "       [-0.02198591,  0.20226897,  0.1048868 ,  0.00205619,  0.13369966,\n",
       "        -0.14570756,  0.03269947, -0.13062687,  0.06946575, -0.01182523],\n",
       "       [-0.02268344,  0.1048868 ,  0.08221796, -0.06024261,  0.05161811,\n",
       "        -0.10468645, -0.03135263, -0.12326642,  0.03827918,  0.04788813],\n",
       "       [ 0.07678699,  0.00205619, -0.06024261,  0.40721148, -0.07150709,\n",
       "         0.10055857,  0.01631043,  0.08620407,  0.00263882,  0.1365468 ],\n",
       "       [ 0.02208636,  0.13369966,  0.05161811, -0.07150709,  0.1783502 ,\n",
       "        -0.03549968,  0.06971855, -0.04210093, -0.04161023, -0.22106474],\n",
       "       [ 0.11702765, -0.14570756, -0.10468645,  0.10055857, -0.03549968,\n",
       "         0.24398136, -0.01245183,  0.14150194, -0.21412593, -0.14097866],\n",
       "       [-0.10116621,  0.03269947, -0.03135263,  0.01631043,  0.06971855,\n",
       "        -0.01245183,  0.20303677,  0.12240875, -0.07936098, -0.11916435],\n",
       "       [-0.0094003 , -0.13062687, -0.12326642,  0.08620407, -0.04210093,\n",
       "         0.14150194,  0.12240875,  0.21502463, -0.09711812, -0.11311178],\n",
       "       [-0.00706982,  0.06946575,  0.03827918,  0.00263882, -0.04161023,\n",
       "        -0.21412593, -0.07936098, -0.09711812,  0.4895366 ,  0.16303769],\n",
       "       [-0.10249088, -0.01182523,  0.04788813,  0.1365468 , -0.22106474,\n",
       "        -0.14097866, -0.11916435, -0.11311178,  0.16303769,  0.5160037 ]])"
      ]
     },
     "execution_count": 9,
     "metadata": {},
     "output_type": "execute_result"
    }
   ],
   "source": [
    "(eig_vecs*eig_vals).dot(eig_vecs.T)"
   ]
  },
  {
   "cell_type": "code",
   "execution_count": 10,
   "metadata": {
    "colab": {},
    "colab_type": "code",
    "id": "10VrZaSsYYLd"
   },
   "outputs": [],
   "source": [
    "DPP = FiniteDPP('correlation',\n",
    "                **{'K': (eig_vecs*eig_vals).dot(eig_vecs.T)})"
   ]
  },
  {
   "cell_type": "markdown",
   "metadata": {
    "colab_type": "text",
    "id": "O9PX6gXkYCLZ"
   },
   "source": [
    "Equivalently, you can directly input the eigendecomposition,\n",
    "\n",
    "$\\qquad \\mathbf{K} = \\sum_{n=1}^{N} \\lambda_n u_n u_n^{\\top}, \\quad 0 \\leq \\lambda_n \\leq 1$."
   ]
  },
  {
   "cell_type": "code",
   "execution_count": 11,
   "metadata": {
    "colab": {},
    "colab_type": "code",
    "id": "3uvzxKLEX2nA"
   },
   "outputs": [],
   "source": [
    "DPP = FiniteDPP('correlation',\n",
    "                **{'K_eig_dec': (eig_vals, eig_vecs)})"
   ]
  },
  {
   "cell_type": "markdown",
   "metadata": {},
   "source": [
    "In machine learning, it is common to forget about $\\mathbf{K}$ and existence conditions by working with the \"likelihood\" kernel $\\mathbf{L}\\in\\mathbb{R}^{N\\times N}$, and define $\\mathcal{X}\\sim\\operatorname{DPP}(\\mathbf{L})$ to mean\n",
    "\n",
    "$$\\qquad \\mathbb{P}[\\mathcal{X} = S] \\propto \\det \\mathbf{L}_S.$$"
   ]
  },
  {
   "cell_type": "markdown",
   "metadata": {
    "colab_type": "text",
    "id": "Vvkfom6rY250"
   },
   "source": [
    "In `DPPy`, you can define a DPP through its likelihood kernel, provided $\\mathbf{L}\\succeq 0$."
   ]
  },
  {
   "cell_type": "code",
   "execution_count": 12,
   "metadata": {
    "colab": {},
    "colab_type": "code",
    "id": "10VrZaSsYYLd"
   },
   "outputs": [],
   "source": [
    "DPP = FiniteDPP('likelihood',\n",
    "                **{'L': (eig_vecs*(eig_vals/(1-eig_vals))).dot(eig_vecs.T)})"
   ]
  },
  {
   "cell_type": "markdown",
   "metadata": {
    "colab_type": "text",
    "id": "O9PX6gXkYCLZ"
   },
   "source": [
    "Again, you can also input the eigendecomposition directly,\n",
    "\n",
    "$$\\mathbf{L} = \\sum_{n=1}^{N} \\delta_n u_n u_n^{\\top}, \\quad \\delta_n \\geq 0.$$"
   ]
  },
  {
   "cell_type": "code",
   "execution_count": 13,
   "metadata": {
    "colab": {},
    "colab_type": "code",
    "id": "3uvzxKLEX2nA"
   },
   "outputs": [],
   "source": [
    "DPP = FiniteDPP('likelihood',\n",
    "                **{'L_eig_dec': (eig_vals/(1-eig_vals), eig_vecs)})"
   ]
  },
  {
   "cell_type": "markdown",
   "metadata": {},
   "source": [
    "We also include an option to input feature vectors $\\Phi \\in \\mathbb{R}^{r\\times N}$, which define $\\mathbf{L}$ as \n",
    "\n",
    "$$\\qquad \\mathbf{L}=\\Phi^{\\top} \\Phi.$$"
   ]
  },
  {
   "cell_type": "code",
   "execution_count": 14,
   "metadata": {},
   "outputs": [
    {
     "name": "stdout",
     "output_type": "stream",
     "text": [
      "L_dual = Phi Phi.T was computed: Phi (dxN) with d<N\n"
     ]
    }
   ],
   "source": [
    "DPP = FiniteDPP('likelihood',\n",
    "                **{'L_gram_factor': randn(r, N)})"
   ]
  },
  {
   "cell_type": "markdown",
   "metadata": {
    "colab_type": "text",
    "id": "hgcvUD60uIYR"
   },
   "source": [
    "And finally, you can provide a pair `(eval_L, X_data)`\n",
    "such that the $(i,j)$-th entry of $\\mathbf{L}$ is computed by evaluating the likelihood function\n",
    "$\\texttt{eval_L}(\\mathbf{x}_i, \\mathbf{x}_j)$ between points $i$ and $j$, i.e. rows $i$ and $j$ of \n",
    "the data matrix $\\mathbf{X}_{data} \\in \\mathbb{R}^{N \\times r}$.\n",
    "For a full description of the\n",
    "requirements imposed on `eval_L`'s interface, see the documentation of `dppy.vfx_sampling.vfx_sampling_precompute_constants`.\n",
    "For an example, see `dppy.utils.example_eval_L_*` or the implementation of any of the kernels provided by scikit-learn\n",
    "(e.g. `sklearn.gaussian_process.kernels.PairwiseKernel`)."
   ]
  },
  {
   "cell_type": "code",
   "execution_count": 15,
   "metadata": {},
   "outputs": [],
   "source": [
    "DPP = FiniteDPP('likelihood',\n",
    "                **{'L_eval_X_data': (example_eval_L_linear, randn(N, r))})"
   ]
  },
  {
   "cell_type": "markdown",
   "metadata": {
    "colab_type": "text",
    "id": "hgcvUD60uIYR"
   },
   "source": [
    "Users can go back and forth between the $\\mathbf{K}$ and $\\mathbf{L}$ kernels, since $\\mathbf{L}=\\mathbf{K}(I-\\mathbf{K})^{-1}$."
   ]
  },
  {
   "cell_type": "code",
   "execution_count": 16,
   "metadata": {
    "colab": {},
    "colab_type": "code",
    "id": "faqpPEfofr5q"
   },
   "outputs": [
    {
     "name": "stdout",
     "output_type": "stream",
     "text": [
      "L (likelihood) kernel computed via:\n",
      "- eig_L = eig_K/(1-eig_K)\n",
      "- U diag(eig_L) U.T\n",
      "[[ 0.57501173 -0.49296352 -0.4870102   0.18240786  0.33526508  1.23936185\n",
      "   0.30601832  0.80684961 -1.37033229 -1.55785293]\n",
      " [-0.49296352  1.0337089   0.83302851 -0.23419978 -0.07884267 -1.74902099\n",
      "  -0.54197796 -1.38180576  1.98872835  1.74280822]\n",
      " [-0.4870102   0.83302851  0.76983879 -0.24752671 -0.27751432 -1.64947034\n",
      "  -0.66430736 -1.34139707  1.93961151  1.92568976]\n",
      " [ 0.18240786 -0.23419978 -0.24752671  1.0024134  -0.38508946  0.38316003\n",
      "  -0.03753248  0.31899497 -0.07286369  0.4819605 ]\n",
      " [ 0.33526508 -0.07884267 -0.27751432 -0.38508946  0.86613403  0.90280598\n",
      "   0.67861905  0.67213964 -1.48772988 -2.14581104]\n",
      " [ 1.23936185 -1.74902099 -1.64947034  0.38316003  0.90280598  3.85580679\n",
      "   1.48408163  2.9151074  -4.79401246 -4.76314072]\n",
      " [ 0.30601832 -0.54197796 -0.66430736 -0.03753248  0.67861905  1.48408163\n",
      "   1.03685298  1.34874562 -2.14910101 -2.41075967]\n",
      " [ 0.80684961 -1.38180576 -1.34139707  0.31899497  0.67213964  2.9151074\n",
      "   1.34874562  2.41728834 -3.61204218 -3.68338575]\n",
      " [-1.37033229  1.98872835  1.93961151 -0.07286369 -1.48772988 -4.79401246\n",
      "  -2.14910101 -3.61204218  6.59827924  6.42167952]\n",
      " [-1.55785293  1.74280822  1.92568976  0.4819605  -2.14581104 -4.76314072\n",
      "  -2.41075967 -3.68338575  6.42167952  7.66501558]]\n"
     ]
    }
   ],
   "source": [
    "DPP = FiniteDPP('correlation', **{'K_eig_dec': (eig_vals, eig_vecs)})\n",
    "DPP.compute_L()\n",
    "print(DPP.L)"
   ]
  },
  {
   "cell_type": "markdown",
   "metadata": {
    "colab_type": "text",
    "id": "jyxwUJOngJYn"
   },
   "source": [
    "And vice versa."
   ]
  },
  {
   "cell_type": "code",
   "execution_count": 17,
   "metadata": {
    "colab": {},
    "colab_type": "code",
    "id": "xMpISGYGgLYB"
   },
   "outputs": [
    {
     "name": "stdout",
     "output_type": "stream",
     "text": [
      "K (correlation) kernel computed via:\n",
      "- eig_K = eig_L/(1+eig_L)\n",
      "- U diag(eig_K) U.T\n",
      "[[ 2.72665212e-01 -2.67081097e-02 -6.87071917e-03  7.40658593e-02\n",
      "   2.51846555e-02  1.58510209e-01 -2.26765560e-01 -8.02852467e-02\n",
      "   2.25799911e-02 -1.20674489e-01]\n",
      " [-2.67081097e-02  2.83918623e-01  1.41562300e-01  8.22461457e-02\n",
      "   1.83937090e-01 -1.48590138e-01  6.53226525e-02 -1.64138264e-01\n",
      "  -3.53379917e-02  7.28729032e-05]\n",
      " [-6.87071917e-03  1.41562300e-01  1.10671358e-01 -3.67856293e-02\n",
      "   7.63847011e-02 -8.86820646e-02 -4.73401200e-02 -1.64687782e-01\n",
      "  -5.47792383e-02  5.54701919e-02]\n",
      " [ 7.40658593e-02  8.22461457e-02 -3.67856293e-02  5.27560945e-01\n",
      "  -3.18444117e-02  9.01571618e-02  5.95123060e-02  7.25907830e-02\n",
      "  -4.56035767e-02  1.60770944e-01]\n",
      " [ 2.51846555e-02  1.83937090e-01  7.63847011e-02 -3.18444117e-02\n",
      "   2.04227384e-01 -5.21552012e-02  7.37488385e-02 -7.33131991e-02\n",
      "  -5.93625819e-02 -2.05367576e-01]\n",
      " [ 1.58510209e-01 -1.48590138e-01 -8.86820646e-02  9.01571618e-02\n",
      "  -5.21552012e-02  2.42145828e-01 -8.91865601e-02  8.92745732e-02\n",
      "  -1.73755410e-01 -1.05753862e-01]\n",
      " [-2.26765560e-01  6.53226525e-02 -4.73401200e-02  5.95123060e-02\n",
      "   7.37488385e-02 -8.91865601e-02  3.58953024e-01  2.02975261e-01\n",
      "  -4.20833032e-02 -8.61600658e-02]\n",
      " [-8.02852467e-02 -1.64138264e-01 -1.64687782e-01  7.25907830e-02\n",
      "  -7.33131991e-02  8.92745732e-02  2.02975261e-01  2.97574505e-01\n",
      "   3.61615388e-02 -1.05813244e-01]\n",
      " [ 2.25799911e-02 -3.53379917e-02 -5.47792383e-02 -4.56035767e-02\n",
      "  -5.93625819e-02 -1.73755410e-01 -4.20833032e-02  3.61615388e-02\n",
      "   6.55783634e-01  1.45258245e-02]\n",
      " [-1.20674489e-01  7.28729032e-05  5.54701919e-02  1.60770944e-01\n",
      "  -2.05367576e-01 -1.05753862e-01 -8.61600658e-02 -1.05813244e-01\n",
      "   1.45258245e-02  5.11468131e-01]]\n"
     ]
    }
   ],
   "source": [
    "eig_vals = 4*rand(r)  # >=0\n",
    "DPP = FiniteDPP('likelihood', **{'L_eig_dec': (eig_vals, eig_vecs)})\n",
    "DPP.compute_K()\n",
    "print(DPP.K)"
   ]
  },
  {
   "cell_type": "markdown",
   "metadata": {
    "colab_type": "text",
    "id": "wHNVWQvFaVvr"
   },
   "source": [
    "You can also visualize the underlying kernel."
   ]
  },
  {
   "cell_type": "code",
   "execution_count": 18,
   "metadata": {
    "colab": {},
    "colab_type": "code",
    "id": "e5OmsE9Rad5E"
   },
   "outputs": [
    {
     "name": "stdout",
     "output_type": "stream",
     "text": [
      "K (correlation) kernel computed via:\n",
      "- U diag(eig_K) U.T\n"
     ]
    },
    {
     "data": {
      "image/png": "[encoded data removed]",
      "text/plain": [
       "<Figure size 640x480 with 2 Axes>"
      ]
     },
     "metadata": {
      "image/png": {
       "height": 413,
       "width": 495
      }
     },
     "output_type": "display_data"
    }
   ],
   "source": [
    "eig_vals = rand(r)  # 0< <1\n",
    "DPP = FiniteDPP('correlation', **{'K_eig_dec': (eig_vals, eig_vecs)})\n",
    "DPP.plot_kernel()"
   ]
  },
  {
   "cell_type": "markdown",
   "metadata": {
    "colab_type": "text",
    "id": "ljKpQ-ByWlGJ"
   },
   "source": [
    "### Exact sampling\n",
    "`DPPy` implements different exact DPP samplers. \n",
    "\n",
    "The default option is a sampler based on eigendecomposition and volume sampling."
   ]
  },
  {
   "cell_type": "code",
   "execution_count": 19,
   "metadata": {
    "colab": {},
    "colab_type": "code",
    "id": "obYv725EWRRH"
   },
   "outputs": [
    {
     "data": {
      "text/plain": [
       "[[8, 3],\n",
       " [8, 9],\n",
       " [9, 8, 5],\n",
       " [3, 8],\n",
       " [8, 3, 7],\n",
       " [0, 6],\n",
       " [6, 3, 8, 0],\n",
       " [8, 9],\n",
       " [9, 0, 2, 8],\n",
       " [4, 8, 9]]"
      ]
     },
     "execution_count": 19,
     "metadata": {},
     "output_type": "execute_result"
    }
   ],
   "source": [
    "# Sample\n",
    "for _ in range(10):\n",
    "    DPP.sample_exact()\n",
    "\n",
    "DPP.list_of_samples"
   ]
  },
  {
   "cell_type": "code",
   "execution_count": 20,
   "metadata": {
    "colab": {},
    "colab_type": "code",
    "id": "TGEWkkip5jyd"
   },
   "outputs": [
    {
     "data": {
      "text/plain": [
       "[]"
      ]
     },
     "execution_count": 20,
     "metadata": {},
     "output_type": "execute_result"
    }
   ],
   "source": [
    "DPP.flush_samples()\n",
    "DPP.list_of_samples"
   ]
  },
  {
   "cell_type": "markdown",
   "metadata": {
    "colab_type": "text",
    "id": "LHD6RhupmHCx"
   },
   "source": [
    "Another option is the `\"vfx\"` sampler based on rejection sampling.\n",
    "\n",
    "While this method has a fixed set-up cost that might make it not worthwhile for small problems\n",
    "(e.g. $N \\leq 500$), it is much more scalable for larger problems. \n",
    "\n",
    "This sampler is currently available only for the `\"L_eval_X_data\"` DPP representation."
   ]
  },
  {
   "cell_type": "code",
   "execution_count": 21,
   "metadata": {},
   "outputs": [
    {
     "name": "stdout",
     "output_type": "stream",
     "text": [
      "2/2: lam=1 m=9 m_expected=9 probs_dist=(0.9848, 1.0, 0.8634)                    \n",
      "1: acc_thresh=0.3786839972900463 rej_count=0                                    \r"
     ]
    },
    {
     "data": {
      "text/plain": [
       "[[5, 0, 8, 6, 7],\n",
       " [0, 6, 8, 9, 4],\n",
       " [2, 1, 0, 4, 9],\n",
       " [1, 6, 9, 7],\n",
       " [9, 8, 4, 2, 5],\n",
       " [3, 6, 7],\n",
       " [4, 8, 1, 9, 6],\n",
       " [2, 6, 0],\n",
       " [9, 8, 6],\n",
       " [9, 8, 1, 4]]"
      ]
     },
     "execution_count": 21,
     "metadata": {},
     "output_type": "execute_result"
    }
   ],
   "source": [
    "# Sample\n",
    "DPP = FiniteDPP('likelihood',\n",
    "                **{'L_eval_X_data': (example_eval_L_linear, randn(N, r))})\n",
    "\n",
    "for _ in range(10):\n",
    "    DPP.sample_exact('vfx')\n",
    "\n",
    "DPP.list_of_samples"
   ]
  },
  {
   "cell_type": "markdown",
   "metadata": {},
   "source": [
    "### MCMC sampling\n",
    "\n",
    "`DPPy` has most MCMC samplers from the literature, like the \"add-exchange-delete\" chain."
   ]
  },
  {
   "cell_type": "code",
   "execution_count": 22,
   "metadata": {
    "colab": {},
    "colab_type": "code",
    "id": "R1w9z2jnpH5o"
   },
   "outputs": [
    {
     "name": "stdout",
     "output_type": "stream",
     "text": [
      "K (correlation) kernel computed via:\n",
      "- eigendecomposition of L\n",
      "- eig_K = eig_L/(1+eig_L)\n",
      "- U diag(eig_K) U.T\n"
     ]
    },
    {
     "data": {
      "image/png": "[encoded data removed]",
      "text/plain": [
       "<Figure size 640x480 with 2 Axes>"
      ]
     },
     "metadata": {
      "image/png": {
       "height": 413,
       "width": 495
      }
     },
     "output_type": "display_data"
    }
   ],
   "source": [
    "r, N = 4, 10\n",
    "Phi = randn(r, N)\n",
    "L = Phi.T.dot(Phi)\n",
    "DPP = FiniteDPP('likelihood', **{'L': L})\n",
    "DPP.plot_kernel()"
   ]
  },
  {
   "cell_type": "code",
   "execution_count": 23,
   "metadata": {
    "colab": {},
    "colab_type": "code",
    "id": "RseKLyBQneYR"
   },
   "outputs": [
    {
     "name": "stdout",
     "output_type": "stream",
     "text": [
      "K (correlation) kernel computed via:\n",
      "- eigendecomposition of L\n",
      "- eig_K = eig_L/(1+eig_L)\n",
      "- U diag(eig_K) U.T\n",
      "vide  1.0\n",
      "vide  1.0\n",
      "vide  1.0\n",
      "vide  1.0\n",
      "count  0.10656\n",
      "det  0.09826648627460485\n"
     ]
    }
   ],
   "source": [
    "from dppy.utils import det_ST\n",
    "r, N = 4, 10\n",
    "Phi = randn(r, N)\n",
    "L = Phi.T.dot(Phi)\n",
    "DPP = FiniteDPP('likelihood', **{'L': L})\n",
    "DPP.compute_K()\n",
    "T = 100000\n",
    "count = 0\n",
    "for _ in range(T):\n",
    "    DPP.flush_samples()\n",
    "    sample = DPP.sample_mcmc('AED')\n",
    "    if 1 in sample and 2 in sample:\n",
    "        count += 1\n",
    "count /= T\n",
    "det = det_ST(DPP.K,[1,2])\n",
    "print(\"count \", count)\n",
    "print(\"det \", det)"
   ]
  },
  {
   "cell_type": "code",
   "execution_count": 25,
   "metadata": {},
   "outputs": [
    {
     "ename": "ValueError",
     "evalue": "For each axis slice, the sum of the observed frequencies must agree with the sum of the expected frequencies to a relative tolerance of 1e-08, but the percent differences are:\n0.001895808732245287",
     "output_type": "error",
     "traceback": [
      "\u001b[0;31m---------------------------------------------------------------------------\u001b[0m",
      "\u001b[0;31mValueError\u001b[0m                                Traceback (most recent call last)",
      "\u001b[0;32m/var/folders/47/bms4yhmn355_56pjz_j4vvgw0000gp/T/ipykernel_1172/2231245915.py\u001b[0m in \u001b[0;36m?\u001b[0;34m()\u001b[0m\n\u001b[0;32m----> 2\u001b[0;31m \u001b[0mtestclass\u001b[0m \u001b[0;34m=\u001b[0m \u001b[0mTestAdequationOfFiniteDppSamplers\u001b[0m\u001b[0;34m(\u001b[0m\u001b[0;34m)\u001b[0m\u001b[0;34m\u001b[0m\u001b[0;34m\u001b[0m\u001b[0m\n\u001b[0m\u001b[1;32m      3\u001b[0m \u001b[0mtestclass\u001b[0m\u001b[0;34m.\u001b[0m\u001b[0mtest_dpp_adequation_with_projection_correlation_kernel\u001b[0m\u001b[0;34m(\u001b[0m\u001b[0;34m)\u001b[0m\u001b[0;34m\u001b[0m\u001b[0;34m\u001b[0m\u001b[0m\n",
      "\u001b[0;32m~/DPP/DPPy/tests/test_finite_dpps_samplers.py\u001b[0m in \u001b[0;36m?\u001b[0;34m(self)\u001b[0m\n\u001b[1;32m    237\u001b[0m                                   'nb_iter': self.nb_iter_mcmc}}}\n\u001b[1;32m    238\u001b[0m \u001b[0;34m\u001b[0m\u001b[0m\n\u001b[1;32m    239\u001b[0m         \u001b[0madequation_to_check\u001b[0m \u001b[0;34m=\u001b[0m \u001b[0;34m(\u001b[0m\u001b[0;34m'uniqueness_of_items'\u001b[0m\u001b[0;34m,\u001b[0m \u001b[0;34m'cardinality'\u001b[0m\u001b[0;34m,\u001b[0m \u001b[0;34m'singleton'\u001b[0m\u001b[0;34m,\u001b[0m \u001b[0;34m'doubleton'\u001b[0m\u001b[0;34m)\u001b[0m\u001b[0;34m\u001b[0m\u001b[0;34m\u001b[0m\u001b[0m\n\u001b[1;32m    240\u001b[0m \u001b[0;34m\u001b[0m\u001b[0m\n\u001b[0;32m--> 241\u001b[0;31m         self.run_adequation_tests(kernel_type,\n\u001b[0m\u001b[1;32m    242\u001b[0m                                   \u001b[0mlist_dpp_params\u001b[0m\u001b[0;34m,\u001b[0m\u001b[0;34m\u001b[0m\u001b[0;34m\u001b[0m\u001b[0m\n\u001b[1;32m    243\u001b[0m                                   \u001b[0mdict_sampler_mode_param\u001b[0m\u001b[0;34m,\u001b[0m\u001b[0;34m\u001b[0m\u001b[0;34m\u001b[0m\u001b[0m\n\u001b[1;32m    244\u001b[0m                                   adequation_to_check)\n",
      "\u001b[0;32m~/DPP/DPPy/tests/test_finite_dpps_samplers.py\u001b[0m in \u001b[0;36m?\u001b[0;34m(self, kernel_type, list_dpp_params, dict_sampler_mode_param, adequation_to_check)\u001b[0m\n\u001b[1;32m    174\u001b[0m                             \u001b[0;32mwith\u001b[0m \u001b[0mself\u001b[0m\u001b[0;34m.\u001b[0m\u001b[0msubTest\u001b[0m\u001b[0;34m(\u001b[0m\u001b[0madequation\u001b[0m\u001b[0;34m=\u001b[0m\u001b[0madeq_typ\u001b[0m\u001b[0;34m)\u001b[0m\u001b[0;34m:\u001b[0m\u001b[0;34m\u001b[0m\u001b[0;34m\u001b[0m\u001b[0m\n\u001b[1;32m    175\u001b[0m                                 adeq, msg = self.adequation(adeq_typ,\n\u001b[1;32m    176\u001b[0m                                                             \u001b[0msamples\u001b[0m\u001b[0;34m,\u001b[0m\u001b[0;34m\u001b[0m\u001b[0;34m\u001b[0m\u001b[0m\n\u001b[1;32m    177\u001b[0m                                                             dpp)\n\u001b[0;32m--> 178\u001b[0;31m                                 \u001b[0mself\u001b[0m\u001b[0;34m.\u001b[0m\u001b[0massertTrue\u001b[0m\u001b[0;34m(\u001b[0m\u001b[0madeq\u001b[0m\u001b[0;34m,\u001b[0m \u001b[0mmsg\u001b[0m\u001b[0;34m)\u001b[0m\u001b[0;34m\u001b[0m\u001b[0;34m\u001b[0m\u001b[0m\n\u001b[0m",
      "\u001b[0;32m~/DPP/DPPy/tests/test_finite_dpps_samplers.py\u001b[0m in \u001b[0;36m?\u001b[0;34m(self, typ, samples, dpp)\u001b[0m\n\u001b[1;32m    145\u001b[0m             \u001b[0;32mreturn\u001b[0m \u001b[0mself\u001b[0m\u001b[0;34m.\u001b[0m\u001b[0mcardinality_adequation\u001b[0m\u001b[0;34m(\u001b[0m\u001b[0mdpp\u001b[0m\u001b[0;34m,\u001b[0m \u001b[0msamples\u001b[0m\u001b[0;34m)\u001b[0m\u001b[0;34m\u001b[0m\u001b[0;34m\u001b[0m\u001b[0m\n\u001b[1;32m    146\u001b[0m         \u001b[0;32melif\u001b[0m \u001b[0mtyp\u001b[0m \u001b[0;34m==\u001b[0m \u001b[0;34m'singleton'\u001b[0m\u001b[0;34m:\u001b[0m\u001b[0;34m\u001b[0m\u001b[0;34m\u001b[0m\u001b[0m\n\u001b[1;32m    147\u001b[0m             \u001b[0;32mreturn\u001b[0m \u001b[0mself\u001b[0m\u001b[0;34m.\u001b[0m\u001b[0msingleton_adequation\u001b[0m\u001b[0;34m(\u001b[0m\u001b[0mdpp\u001b[0m\u001b[0;34m,\u001b[0m \u001b[0msamples\u001b[0m\u001b[0;34m)\u001b[0m\u001b[0;34m\u001b[0m\u001b[0;34m\u001b[0m\u001b[0m\n\u001b[1;32m    148\u001b[0m         \u001b[0;32melif\u001b[0m \u001b[0mtyp\u001b[0m \u001b[0;34m==\u001b[0m \u001b[0;34m'doubleton'\u001b[0m\u001b[0;34m:\u001b[0m\u001b[0;34m\u001b[0m\u001b[0;34m\u001b[0m\u001b[0m\n\u001b[0;32m--> 149\u001b[0;31m             \u001b[0;32mreturn\u001b[0m \u001b[0mself\u001b[0m\u001b[0;34m.\u001b[0m\u001b[0mdoubleton_adequation\u001b[0m\u001b[0;34m(\u001b[0m\u001b[0mdpp\u001b[0m\u001b[0;34m,\u001b[0m \u001b[0msamples\u001b[0m\u001b[0;34m)\u001b[0m\u001b[0;34m\u001b[0m\u001b[0;34m\u001b[0m\u001b[0m\n\u001b[0m",
      "\u001b[0;32m~/DPP/DPPy/tests/test_finite_dpps_samplers.py\u001b[0m in \u001b[0;36m?\u001b[0;34m(dpp, samples, tol)\u001b[0m\n\u001b[1;32m     89\u001b[0m             counts = [sum([doubl.issubset(sampl) for sampl in samples])\n\u001b[1;32m     90\u001b[0m                       for doubl in doubletons]\n\u001b[1;32m     91\u001b[0m             \u001b[0mmarginal_emp\u001b[0m \u001b[0;34m=\u001b[0m \u001b[0mnp\u001b[0m\u001b[0;34m.\u001b[0m\u001b[0marray\u001b[0m\u001b[0;34m(\u001b[0m\u001b[0mcounts\u001b[0m\u001b[0;34m)\u001b[0m \u001b[0;34m/\u001b[0m \u001b[0mlen\u001b[0m\u001b[0;34m(\u001b[0m\u001b[0msamples\u001b[0m\u001b[0;34m)\u001b[0m\u001b[0;34m\u001b[0m\u001b[0;34m\u001b[0m\u001b[0m\n\u001b[1;32m     92\u001b[0m \u001b[0;34m\u001b[0m\u001b[0m\n\u001b[0;32m---> 93\u001b[0;31m             \u001b[0m_\u001b[0m\u001b[0;34m,\u001b[0m \u001b[0mpval\u001b[0m \u001b[0;34m=\u001b[0m \u001b[0mchisquare\u001b[0m\u001b[0;34m(\u001b[0m\u001b[0mf_obs\u001b[0m\u001b[0;34m=\u001b[0m\u001b[0mmarginal_emp\u001b[0m\u001b[0;34m,\u001b[0m \u001b[0mf_exp\u001b[0m\u001b[0;34m=\u001b[0m\u001b[0mmarginal_th\u001b[0m\u001b[0;34m)\u001b[0m\u001b[0;34m\u001b[0m\u001b[0;34m\u001b[0m\u001b[0m\n\u001b[0m\u001b[1;32m     94\u001b[0m \u001b[0;34m\u001b[0m\u001b[0m\n\u001b[1;32m     95\u001b[0m             msg = 'pval = {}, emp = {}, th = {}'.format(pval,\n\u001b[1;32m     96\u001b[0m                                                         \u001b[0mmarginal_emp\u001b[0m\u001b[0;34m,\u001b[0m\u001b[0;34m\u001b[0m\u001b[0;34m\u001b[0m\u001b[0m\n",
      "\u001b[0;32m~/Library/Python/3.9/lib/python/site-packages/scipy/stats/_stats_py.py\u001b[0m in \u001b[0;36m?\u001b[0;34m(f_obs, f_exp, ddof, axis)\u001b[0m\n\u001b[1;32m   8171\u001b[0m     ...           axis=1)\n\u001b[1;32m   8172\u001b[0m     \u001b[0mPower_divergenceResult\u001b[0m\u001b[0;34m(\u001b[0m\u001b[0mstatistic\u001b[0m\u001b[0;34m=\u001b[0m\u001b[0marray\u001b[0m\u001b[0;34m(\u001b[0m\u001b[0;34m[\u001b[0m\u001b[0;36m3.5\u001b[0m \u001b[0;34m,\u001b[0m \u001b[0;36m9.25\u001b[0m\u001b[0;34m]\u001b[0m\u001b[0;34m)\u001b[0m\u001b[0;34m,\u001b[0m \u001b[0mpvalue\u001b[0m\u001b[0;34m=\u001b[0m\u001b[0marray\u001b[0m\u001b[0;34m(\u001b[0m\u001b[0;34m[\u001b[0m\u001b[0;36m0.62338763\u001b[0m\u001b[0;34m,\u001b[0m \u001b[0;36m0.09949846\u001b[0m\u001b[0;34m]\u001b[0m\u001b[0;34m)\u001b[0m\u001b[0;34m)\u001b[0m\u001b[0;34m\u001b[0m\u001b[0;34m\u001b[0m\u001b[0m\n\u001b[1;32m   8173\u001b[0m \u001b[0;34m\u001b[0m\u001b[0m\n\u001b[1;32m   8174\u001b[0m     \"\"\"  # noqa: E501\n\u001b[0;32m-> 8175\u001b[0;31m     return power_divergence(f_obs, f_exp=f_exp, ddof=ddof, axis=axis,\n\u001b[0m\u001b[1;32m   8176\u001b[0m                             lambda_=\"pearson\")\n",
      "\u001b[0;32m~/Library/Python/3.9/lib/python/site-packages/scipy/stats/_stats_py.py\u001b[0m in \u001b[0;36m?\u001b[0;34m(f_obs, f_exp, ddof, axis, lambda_)\u001b[0m\n\u001b[1;32m   7968\u001b[0m                    \u001b[0;34mf\"frequencies must agree with the sum of the \"\u001b[0m\u001b[0;34m\u001b[0m\u001b[0;34m\u001b[0m\u001b[0m\n\u001b[1;32m   7969\u001b[0m                    \u001b[0;34mf\"expected frequencies to a relative tolerance \"\u001b[0m\u001b[0;34m\u001b[0m\u001b[0;34m\u001b[0m\u001b[0m\n\u001b[1;32m   7970\u001b[0m                    \u001b[0;34mf\"of {rtol}, but the percent differences are:\\n\"\u001b[0m\u001b[0;34m\u001b[0m\u001b[0;34m\u001b[0m\u001b[0m\n\u001b[1;32m   7971\u001b[0m                    f\"{relative_diff}\")\n\u001b[0;32m-> 7972\u001b[0;31m             \u001b[0;32mraise\u001b[0m \u001b[0mValueError\u001b[0m\u001b[0;34m(\u001b[0m\u001b[0mmsg\u001b[0m\u001b[0;34m)\u001b[0m\u001b[0;34m\u001b[0m\u001b[0;34m\u001b[0m\u001b[0m\n\u001b[0m\u001b[1;32m   7973\u001b[0m \u001b[0;34m\u001b[0m\u001b[0m\n\u001b[1;32m   7974\u001b[0m     \u001b[0;32melse\u001b[0m\u001b[0;34m:\u001b[0m\u001b[0;34m\u001b[0m\u001b[0;34m\u001b[0m\u001b[0m\n\u001b[1;32m   7975\u001b[0m         \u001b[0;31m# Ignore 'invalid' errors so the edge case of a data set with length 0\u001b[0m\u001b[0;34m\u001b[0m\u001b[0;34m\u001b[0m\u001b[0;34m\u001b[0m\u001b[0m\n",
      "\u001b[0;31mValueError\u001b[0m: For each axis slice, the sum of the observed frequencies must agree with the sum of the expected frequencies to a relative tolerance of 1e-08, but the percent differences are:\n0.001895808732245287"
     ]
    }
   ],
   "source": [
    "testclass = TestAdequationOfFiniteDppSamplers()\n",
    "testclass.test_dpp_adequation_with_projection_correlation_kernel()"
   ]
  },
  {
   "cell_type": "code",
   "execution_count": 25,
   "metadata": {
    "colab": {},
    "colab_type": "code",
    "id": "dya6CDfjqZWF"
   },
   "outputs": [
    {
     "name": "stdout",
     "output_type": "stream",
     "text": [
      "L (likelihood) kernel computed via:\n",
      "- eig_L = eig_K/(1-eig_K)\n",
      "- U diag(eig_L) U.T\n"
     ]
    },
    {
     "data": {
      "text/plain": [
       "[[[9, 4],\n",
       "  [9, 4],\n",
       "  [9, 4],\n",
       "  [9, 4],\n",
       "  [9, 4],\n",
       "  [9, 4],\n",
       "  [9, 4],\n",
       "  [9, 4],\n",
       "  [9, 4],\n",
       "  [9, 4]]]"
      ]
     },
     "execution_count": 25,
     "metadata": {},
     "output_type": "execute_result"
    }
   ],
   "source": [
    "eig_vecs, _ = qr(randn(N, r), mode='economic')\n",
    "eig_vals = rand(r)\n",
    "\n",
    "DPP = FiniteDPP('correlation', **{'K_eig_dec': (eig_vals, eig_vecs)})\n",
    "DPP.sample_mcmc('AD')\n",
    "DPP.list_of_samples"
   ]
  },
  {
   "cell_type": "code",
   "execution_count": 26,
   "metadata": {
    "colab": {},
    "colab_type": "code",
    "id": "_vg14oDwpUfU"
   },
   "outputs": [
    {
     "data": {
      "text/plain": [
       "[[[0, 2, 3, 5],\n",
       "  [0, 2, 3, 5],\n",
       "  [0, 2, 3, 5],\n",
       "  [0, 2, 3],\n",
       "  [0, 2, 3],\n",
       "  [0, 2, 3],\n",
       "  [0, 2, 3],\n",
       "  [0, 3, np.int64(6)],\n",
       "  [0, 3, np.int64(6)],\n",
       "  [0, 3, np.int64(6)]]]"
      ]
     },
     "execution_count": 26,
     "metadata": {},
     "output_type": "execute_result"
    }
   ],
   "source": [
    "DPP.flush_samples()\n",
    "DPP.sample_mcmc('AED')  #E, AD\n",
    "DPP.list_of_samples"
   ]
  },
  {
   "cell_type": "code",
   "execution_count": 27,
   "metadata": {},
   "outputs": [
    {
     "data": {
      "text/plain": [
       "[[[2, 4, 5, 6],\n",
       "  [2, 4, 5, 6],\n",
       "  [2, 4, 5, 6],\n",
       "  [2, 4, 5, 6],\n",
       "  [2, 4, 5, 6],\n",
       "  [2, 4, 5, 6],\n",
       "  [2, 4, 5, 6],\n",
       "  [2, 4, 5, 6],\n",
       "  [2, 4, 5, 6],\n",
       "  [4, 5, 6, np.int64(8)]]]"
      ]
     },
     "execution_count": 27,
     "metadata": {},
     "output_type": "execute_result"
    }
   ],
   "source": [
    "DPP.flush_samples()\n",
    "DPP.sample_mcmc('AED', params = {'random_state':1})  #E, AD\n",
    "DPP.list_of_samples"
   ]
  },
  {
   "cell_type": "markdown",
   "metadata": {
    "colab_type": "text",
    "id": "VImPJ3x2o4vN"
   },
   "source": [
    "Some MCMC samplers have been designed to allow more global moves, like the \"zonotope hit-and-run\"."
   ]
  },
  {
   "cell_type": "code",
   "execution_count": 28,
   "metadata": {
    "colab": {},
    "colab_type": "code",
    "id": "AubAvnRgpw97"
   },
   "outputs": [
    {
     "ename": "ValueError",
     "evalue": "The cvxopt package is required to use the zonotype sampler (see setup.py).",
     "output_type": "error",
     "traceback": [
      "\u001b[0;31m---------------------------------------------------------------------------\u001b[0m",
      "\u001b[0;31mModuleNotFoundError\u001b[0m                       Traceback (most recent call last)",
      "File \u001b[0;32m~/DPP/DPPy/dppy/mcmc_sampling.py:488\u001b[0m, in \u001b[0;36mzonotope_sampler\u001b[0;34m(A_zono, **params)\u001b[0m\n\u001b[1;32m    487\u001b[0m \u001b[38;5;28;01mtry\u001b[39;00m:\n\u001b[0;32m--> 488\u001b[0m     \u001b[38;5;28;01mfrom\u001b[39;00m \u001b[38;5;21;01mcvxopt\u001b[39;00m \u001b[38;5;28;01mimport\u001b[39;00m matrix, spmatrix, solvers\n\u001b[1;32m    489\u001b[0m \u001b[38;5;28;01mexcept\u001b[39;00m \u001b[38;5;167;01mImportError\u001b[39;00m:\n",
      "\u001b[0;31mModuleNotFoundError\u001b[0m: No module named 'cvxopt'",
      "\nDuring handling of the above exception, another exception occurred:\n",
      "\u001b[0;31mValueError\u001b[0m                                Traceback (most recent call last)",
      "Cell \u001b[0;32mIn[28], line 6\u001b[0m\n\u001b[1;32m      2\u001b[0m A \u001b[38;5;241m=\u001b[39m randn(r, N)\n\u001b[1;32m      4\u001b[0m DPP \u001b[38;5;241m=\u001b[39m FiniteDPP(\u001b[38;5;124m'\u001b[39m\u001b[38;5;124mcorrelation\u001b[39m\u001b[38;5;124m'\u001b[39m, projection\u001b[38;5;241m=\u001b[39m\u001b[38;5;28;01mTrue\u001b[39;00m, \u001b[38;5;241m*\u001b[39m\u001b[38;5;241m*\u001b[39m{\u001b[38;5;124m'\u001b[39m\u001b[38;5;124mA_zono\u001b[39m\u001b[38;5;124m'\u001b[39m: A})\n\u001b[0;32m----> 6\u001b[0m \u001b[43mDPP\u001b[49m\u001b[38;5;241;43m.\u001b[39;49m\u001b[43msample_mcmc\u001b[49m\u001b[43m(\u001b[49m\u001b[38;5;124;43m'\u001b[39;49m\u001b[38;5;124;43mzonotope\u001b[39;49m\u001b[38;5;124;43m'\u001b[39;49m\u001b[43m)\u001b[49m\n\u001b[1;32m      7\u001b[0m \u001b[38;5;28mprint\u001b[39m(DPP\u001b[38;5;241m.\u001b[39mlist_of_samples)\n",
      "File \u001b[0;32m~/DPP/DPPy/dppy/finite_dpps.py:761\u001b[0m, in \u001b[0;36mFiniteDPP.sample_mcmc\u001b[0;34m(self, mode, **params)\u001b[0m\n\u001b[1;32m    759\u001b[0m \u001b[38;5;28;01mif\u001b[39;00m \u001b[38;5;28mself\u001b[39m\u001b[38;5;241m.\u001b[39msampling_mode \u001b[38;5;241m==\u001b[39m \u001b[38;5;124m'\u001b[39m\u001b[38;5;124mzonotope\u001b[39m\u001b[38;5;124m'\u001b[39m:\n\u001b[1;32m    760\u001b[0m     \u001b[38;5;28;01mif\u001b[39;00m \u001b[38;5;28mself\u001b[39m\u001b[38;5;241m.\u001b[39mA_zono \u001b[38;5;129;01mis\u001b[39;00m \u001b[38;5;129;01mnot\u001b[39;00m \u001b[38;5;28;01mNone\u001b[39;00m:\n\u001b[0;32m--> 761\u001b[0m         chain \u001b[38;5;241m=\u001b[39m \u001b[43mzonotope_sampler\u001b[49m\u001b[43m(\u001b[49m\u001b[38;5;28;43mself\u001b[39;49m\u001b[38;5;241;43m.\u001b[39;49m\u001b[43mA_zono\u001b[49m\u001b[43m,\u001b[49m\u001b[43m \u001b[49m\u001b[38;5;241;43m*\u001b[39;49m\u001b[38;5;241;43m*\u001b[39;49m\u001b[43mparams\u001b[49m\u001b[43m)\u001b[49m\n\u001b[1;32m    762\u001b[0m     \u001b[38;5;28;01melse\u001b[39;00m:\n\u001b[1;32m    763\u001b[0m         err_print \u001b[38;5;241m=\u001b[39m [\u001b[38;5;124m'\u001b[39m\u001b[38;5;124mInvalid `mode=zonotope` parameter\u001b[39m\u001b[38;5;124m'\u001b[39m,\n\u001b[1;32m    764\u001b[0m                      \u001b[38;5;124m'\u001b[39m\u001b[38;5;124mDPP must be defined via `A_zono`\u001b[39m\u001b[38;5;124m'\u001b[39m,\n\u001b[1;32m    765\u001b[0m                      \u001b[38;5;124m'\u001b[39m\u001b[38;5;124mGiven: \u001b[39m\u001b[38;5;132;01m{}\u001b[39;00m\u001b[38;5;124m'\u001b[39m\u001b[38;5;241m.\u001b[39mformat(\u001b[38;5;28mself\u001b[39m\u001b[38;5;241m.\u001b[39mparams_keys)]\n",
      "File \u001b[0;32m~/DPP/DPPy/dppy/mcmc_sampling.py:490\u001b[0m, in \u001b[0;36mzonotope_sampler\u001b[0;34m(A_zono, **params)\u001b[0m\n\u001b[1;32m    488\u001b[0m     \u001b[38;5;28;01mfrom\u001b[39;00m \u001b[38;5;21;01mcvxopt\u001b[39;00m \u001b[38;5;28;01mimport\u001b[39;00m matrix, spmatrix, solvers\n\u001b[1;32m    489\u001b[0m \u001b[38;5;28;01mexcept\u001b[39;00m \u001b[38;5;167;01mImportError\u001b[39;00m:\n\u001b[0;32m--> 490\u001b[0m     \u001b[38;5;28;01mraise\u001b[39;00m \u001b[38;5;167;01mValueError\u001b[39;00m(\u001b[38;5;124m'\u001b[39m\u001b[38;5;124mThe cvxopt package is required to use the zonotype sampler (see setup.py).\u001b[39m\u001b[38;5;124m'\u001b[39m)\n\u001b[1;32m    492\u001b[0m solvers\u001b[38;5;241m.\u001b[39moptions[\u001b[38;5;124m'\u001b[39m\u001b[38;5;124mshow_progress\u001b[39m\u001b[38;5;124m'\u001b[39m] \u001b[38;5;241m=\u001b[39m params\u001b[38;5;241m.\u001b[39mget(\u001b[38;5;124m'\u001b[39m\u001b[38;5;124mshow_progress\u001b[39m\u001b[38;5;124m'\u001b[39m, \u001b[38;5;28;01mFalse\u001b[39;00m)\n\u001b[1;32m    493\u001b[0m solvers\u001b[38;5;241m.\u001b[39moptions[\u001b[38;5;124m'\u001b[39m\u001b[38;5;124mglpk\u001b[39m\u001b[38;5;124m'\u001b[39m] \u001b[38;5;241m=\u001b[39m {\u001b[38;5;124m'\u001b[39m\u001b[38;5;124mmsg_lev\u001b[39m\u001b[38;5;124m'\u001b[39m: params\u001b[38;5;241m.\u001b[39mget(\u001b[38;5;124m'\u001b[39m\u001b[38;5;124mshow_progress\u001b[39m\u001b[38;5;124m'\u001b[39m, \u001b[38;5;124m'\u001b[39m\u001b[38;5;124mGLP_MSG_OFF\u001b[39m\u001b[38;5;124m'\u001b[39m)}\n",
      "\u001b[0;31mValueError\u001b[0m: The cvxopt package is required to use the zonotype sampler (see setup.py)."
     ]
    }
   ],
   "source": [
    "r, N = 4, 10\n",
    "A = randn(r, N)\n",
    "\n",
    "DPP = FiniteDPP('correlation', projection=True, **{'A_zono': A})\n",
    "\n",
    "DPP.sample_mcmc('zonotope')\n",
    "print(DPP.list_of_samples)"
   ]
  },
  {
   "cell_type": "markdown",
   "metadata": {},
   "source": [
    "## $k$-DPPs\n",
    "\n",
    "In machine learning, $k$-DPPs have also been considered; see [documentation](https://dppy.readthedocs.io/en/latest/finite_dpps/definition.html#k-dpps). One way to define them is condition a DPP defined though its likelihood kernel $\\mathbb{L}$ to have a fixed sample size $k$.\n",
    "\n",
    "$$\\mathbb{P}[\\mathcal{X} = S] \\propto \\det \\mathbf{L}_S ~~ 1_{|S|=k}.$$"
   ]
  },
  {
   "cell_type": "code",
   "execution_count": null,
   "metadata": {},
   "outputs": [],
   "source": [
    "r, N = 5, 10\n",
    "\n",
    "# Random feature vectors\n",
    "Phi = randn(r, N)\n",
    "DPP = FiniteDPP('likelihood', **{'L': Phi.T.dot(Phi)})"
   ]
  },
  {
   "cell_type": "markdown",
   "metadata": {},
   "source": [
    "### Exact sampling\n",
    "\n",
    "See [documentation](https://dppy.readthedocs.io/en/latest/finite_dpps/exact_sampling.html#k-dpps)."
   ]
  },
  {
   "cell_type": "code",
   "execution_count": null,
   "metadata": {},
   "outputs": [],
   "source": [
    "k = 3\n",
    "DPP.flush_samples()\n",
    "for _ in range(10):\n",
    "    DPP.sample_exact_k_dpp(size=3)\n",
    "\n",
    "DPP.list_of_samples"
   ]
  },
  {
   "cell_type": "markdown",
   "metadata": {
    "colab_type": "text",
    "id": "LHD6RhupmHCx"
   },
   "source": [
    "Another option uses the `\"vfx\"` sampler.\n",
    "\n",
    "This method keeps drawing from $\\operatorname{DPP}(\\mathbf{L})$ until the sample has cardinality $k$."
   ]
  },
  {
   "cell_type": "code",
   "execution_count": null,
   "metadata": {},
   "outputs": [],
   "source": [
    "# Sample\n",
    "DPP = FiniteDPP('likelihood',\n",
    "                **{'L_eval_X_data': (example_eval_L_linear, randn(N, r))})\n",
    "\n",
    "for _ in range(10):\n",
    "    DPP.sample_exact_k_dpp(size=k, mode='vfx')\n",
    "\n",
    "DPP.list_of_samples"
   ]
  },
  {
   "cell_type": "markdown",
   "metadata": {},
   "source": [
    "### MCMC sampling\n",
    "\n",
    "To preserve the cardinality of the samples, only exchange moves can be performed among the \"add-exchange-delete\" options."
   ]
  },
  {
   "cell_type": "code",
   "execution_count": null,
   "metadata": {},
   "outputs": [],
   "source": [
    "k = 3\n",
    "DPP.flush_samples()\n",
    "DPP.sample_mcmc_k_dpp(size=k)\n",
    "DPP.list_of_samples"
   ]
  },
  {
   "cell_type": "markdown",
   "metadata": {
    "colab_type": "text",
    "id": "QfaSOUqIZe84"
   },
   "source": [
    "## Exotic DPPs\n",
    "\n",
    "In this section, we gather some exotic DPPs for research purposes. We focus on DPPs that come with apparently adhoc, efficient sampling algorithms. Again, we refer to the [documentation](https://dppy.readthedocs.io/en/latest/exotic_dpps/index.html) for more details and references."
   ]
  },
  {
   "cell_type": "markdown",
   "metadata": {
    "colab_type": "text",
    "id": "JvZbZ2yFtgZS"
   },
   "source": [
    "### Uniform Spanning Trees\n",
    "\n",
    "If you draw a uniform spanning tree of a connected graph, and collect its edges in a set, you have a DPP on the set of edges."
   ]
  },
  {
   "cell_type": "code",
   "execution_count": null,
   "metadata": {},
   "outputs": [],
   "source": [
    "import networkx as nx\n",
    "\n",
    "from dppy.exotic_dpps import UST"
   ]
  },
  {
   "cell_type": "markdown",
   "metadata": {},
   "source": [
    "Let us generate a graph."
   ]
  },
  {
   "cell_type": "code",
   "execution_count": null,
   "metadata": {
    "cellView": "both",
    "colab": {},
    "colab_type": "code",
    "id": "Fz_2vT5PteQb"
   },
   "outputs": [],
   "source": [
    "g = nx.Graph()\n",
    "edges = [(0,2), (0,3), (1,2), (1,4), (2,3), (2,4), (3,4)]\n",
    "g.add_edges_from(edges)\n",
    "\n",
    "ust = UST(g)\n",
    "\n",
    "ust.plot_graph()"
   ]
  },
  {
   "cell_type": "markdown",
   "metadata": {
    "colab_type": "text",
    "id": "7v6l0cYR8Sir"
   },
   "source": [
    "And display the correlation kernel of the corresponding DPP."
   ]
  },
  {
   "cell_type": "code",
   "execution_count": null,
   "metadata": {
    "colab": {},
    "colab_type": "code",
    "id": "xWSCBX587zh2"
   },
   "outputs": [],
   "source": [
    "ust.compute_kernel()\n",
    "ust.plot_kernel()"
   ]
  },
  {
   "cell_type": "markdown",
   "metadata": {
    "colab_type": "text",
    "id": "UCP_YBDY7_EE"
   },
   "source": [
    "Sampling a UST can be done using exact sampling for DPPs, but there are smart Markov chain arguments that yield other *exact* sampling algorithms."
   ]
  },
  {
   "cell_type": "code",
   "execution_count": null,
   "metadata": {
    "colab": {},
    "colab_type": "code",
    "id": "IAaeF9rZ79vn"
   },
   "outputs": [],
   "source": [
    "for md in ('Aldous-Broder', 'Wilson', 'GS'):\n",
    "    ust.sample(md)\n",
    "    ust.plot()"
   ]
  },
  {
   "cell_type": "markdown",
   "metadata": {
    "colab_type": "text",
    "id": "eH31R4T8kIDM"
   },
   "source": [
    "### The Poissonized Plancherel measure\n",
    "\n",
    "This DPP appears in combinatorics and can be sampled using a constructive bijection called the Robinson-Schensted-Knuth correspondence."
   ]
  },
  {
   "cell_type": "code",
   "execution_count": null,
   "metadata": {},
   "outputs": [],
   "source": [
    "from dppy.exotic_dpps import PoissonizedPlancherel"
   ]
  },
  {
   "cell_type": "code",
   "execution_count": null,
   "metadata": {
    "colab": {},
    "colab_type": "code",
    "id": "ufSAqkEFkkde"
   },
   "outputs": [],
   "source": [
    "theta = 1500  # Poisson parameter\n",
    "pp_dpp = PoissonizedPlancherel(theta=theta)\n",
    "pp_dpp.sample()\n",
    "pp_dpp.plot_diagram(True)"
   ]
  },
  {
   "cell_type": "markdown",
   "metadata": {
    "colab_type": "text",
    "id": "iv5EwTfmktBJ"
   },
   "source": [
    "### The Carries Process\n",
    "This DPP is simply obtained by noting the position of carries when you add i.i.d. uniform integer digits in some base $b$."
   ]
  },
  {
   "cell_type": "code",
   "execution_count": null,
   "metadata": {},
   "outputs": [],
   "source": [
    "from dppy.exotic_dpps import CarriesProcess"
   ]
  },
  {
   "cell_type": "code",
   "execution_count": null,
   "metadata": {
    "cellView": "form",
    "colab": {},
    "colab_type": "code",
    "id": "T5LLms-plYR4",
    "scrolled": true
   },
   "outputs": [],
   "source": [
    "#@title ##### Use a slider!\n",
    "\n",
    "_base = 10  #@param {type:'slider', min:0, max:10, step:1}\n",
    "_size = 63  #@param {type:'slider', min:0, max:1000, step:1}\n",
    "\n",
    "cp = CarriesProcess(_base)\n",
    "\n",
    "cp.sample(_size)\n",
    "\n",
    "cp.plot(vs_bernoullis=True)"
   ]
  },
  {
   "cell_type": "markdown",
   "metadata": {
    "colab_type": "text",
    "id": "Q12BjnKoucEq"
   },
   "source": [
    "## $\\beta$-ensembles\n",
    "\n",
    "$\\beta$-ensembles are an important particular case of point processes that appear in random matrix theory, see the [documentation](https://dppy.readthedocs.io/en/latest/continuous_dpps/index.html).\n",
    "\n",
    "When $\\beta=2$, they are projection DPPs."
   ]
  },
  {
   "cell_type": "markdown",
   "metadata": {
    "colab_type": "text",
    "id": "0eZbIbGwpKXw"
   },
   "source": [
    "### The circular ensemble"
   ]
  },
  {
   "cell_type": "markdown",
   "metadata": {},
   "source": [
    "Loosely speaking, the circular ensemble is a repulsive version of points uniformly drawn on the unit circle.\n",
    "\n",
    "It also characterizes the eigenvalue distribution of random unitary matrices."
   ]
  },
  {
   "cell_type": "code",
   "execution_count": null,
   "metadata": {
    "colab": {},
    "colab_type": "code",
    "id": "8Trgn-bRpBNc"
   },
   "outputs": [],
   "source": [
    "from dppy.beta_ensembles import CircularEnsemble\n",
    "\n",
    "circular = CircularEnsemble(beta=2)  # beta must be a nonnegative integer, default is beta=2"
   ]
  },
  {
   "cell_type": "markdown",
   "metadata": {
    "colab_type": "text",
    "id": "j8Z0KEZdxq_f"
   },
   "source": [
    "When $\\beta$ increases, the samples tend to \"cristallize\". You can try several values of $\\beta$ in the following cell."
   ]
  },
  {
   "cell_type": "code",
   "execution_count": null,
   "metadata": {
    "cellView": "form",
    "colab": {},
    "colab_type": "code",
    "id": "NKxoidomyIT5"
   },
   "outputs": [],
   "source": [
    "#@title ##### Use a slider! (on G-Colab only!!)\n",
    "\n",
    "_beta = 10 #@param {type:'slider', min:0, max:100, step:1}\n",
    "_size = 30  #@param {type:'slider', min:0, max:100, step:1}\n",
    "\n",
    "circular.beta = _beta\n",
    "circular.sample_banded_model(size_N=_size)\n",
    "circular.plot()"
   ]
  },
  {
   "cell_type": "markdown",
   "metadata": {
    "colab_type": "text",
    "id": "ysnn747E04q8"
   },
   "source": [
    "Here is a loop that also demonstrates the cristallization."
   ]
  },
  {
   "cell_type": "code",
   "execution_count": null,
   "metadata": {
    "colab": {},
    "colab_type": "code",
    "id": "BXhZcGE-xVtR"
   },
   "outputs": [],
   "source": [
    "for b in (0, 1, 5, 10):\n",
    "    circular.beta = b\n",
    "    circular.sample_banded_model(size_N=30)\n",
    "    circular.plot()"
   ]
  },
  {
   "cell_type": "markdown",
   "metadata": {
    "colab_type": "text",
    "id": "g4pzjDKhpBNd"
   },
   "source": [
    "The circular ensemble can be sampled by diagonalizing dense random matrices when $\\beta \\in \\{0, 1, 2, 4\\}$."
   ]
  },
  {
   "cell_type": "code",
   "execution_count": null,
   "metadata": {
    "colab": {},
    "colab_type": "code",
    "id": "nOHlvFddpBNe"
   },
   "outputs": [],
   "source": [
    "circular.beta = 2\n",
    "# 1. Plot the eigenvalues, they lie on the unit circle\n",
    "circular.sample_full_model(size_N=30, haar_mode='Hermite')  # Sample # haar_mode = 'Hermite'/'QR'\n",
    "circular.plot() # Plot of the eigenvalues\n",
    "\n",
    "# 2. Histogram of the angle of more points, should look uniform on [0,2pi]\n",
    "circular.sample_full_model(size_N=1000, haar_mode='Hermite')  # Sample\n",
    "circular.hist()"
   ]
  },
  {
   "cell_type": "markdown",
   "metadata": {
    "colab_type": "text",
    "id": "HYcJ2I1-pBNi"
   },
   "source": [
    "They can also be sampled by diagonalizing banded (quindiagonal) matrices  when $\\beta \\in \\mathbb{N}^*$."
   ]
  },
  {
   "cell_type": "code",
   "execution_count": null,
   "metadata": {
    "colab": {},
    "colab_type": "code",
    "id": "FjFT3cEKpBNi"
   },
   "outputs": [],
   "source": [
    "circular.beta = 7\n",
    "circular.sample_banded_model(size_N=30)\n",
    "circular.plot()\n",
    "\n",
    "circular.sample_banded_model(size_N=1000)\n",
    "circular.hist()"
   ]
  },
  {
   "cell_type": "markdown",
   "metadata": {},
   "source": [
    "When $\\beta=0$, the circular ensemble boils down to i.i.d. uniform points on the unit circle."
   ]
  },
  {
   "cell_type": "code",
   "execution_count": null,
   "metadata": {},
   "outputs": [],
   "source": [
    "circular.beta = 0\n",
    "circular.sample_banded_model(size_N=30)\n",
    "circular.plot()"
   ]
  },
  {
   "cell_type": "markdown",
   "metadata": {
    "colab_type": "text",
    "id": "KjMLG766JjlZ"
   },
   "source": [
    "### The Hermite ensemble"
   ]
  },
  {
   "cell_type": "markdown",
   "metadata": {},
   "source": [
    "Loosely speaking, the Hermite ensemble is a repulsive version of points drawn i.i.d. from a unit Gaussian.\n",
    "\n",
    "It also characterizes the eigenvalue distribution of symmetric Gaussian matrices."
   ]
  },
  {
   "cell_type": "code",
   "execution_count": null,
   "metadata": {
    "colab": {},
    "colab_type": "code",
    "id": "3C6o1uAhjFgV"
   },
   "outputs": [],
   "source": [
    "from dppy.beta_ensembles import HermiteEnsemble\n",
    "\n",
    "hermite = HermiteEnsemble(beta=4)  # beta can be >=0, default beta=2"
   ]
  },
  {
   "cell_type": "markdown",
   "metadata": {
    "colab_type": "text",
    "id": "BvdJ1cAZl0wU"
   },
   "source": [
    "Again, the Hermite ensemble can be sampled by diagonalizing a dense random matrix when $\\beta \\in \\{0, 1, 2, 4\\}$."
   ]
  },
  {
   "cell_type": "code",
   "execution_count": null,
   "metadata": {
    "colab": {},
    "colab_type": "code",
    "id": "3C6o1uAhjFgV"
   },
   "outputs": [],
   "source": [
    "hermite.sample_full_model(size_N=500)\n",
    "# hermite.plot(normalization=True)\n",
    "hermite.hist(normalization=True)"
   ]
  },
  {
   "cell_type": "markdown",
   "metadata": {},
   "source": [
    "And again, there is a tridiagonal matrix model that has the same law for its eigenvalues. It is much faster to sample."
   ]
  },
  {
   "cell_type": "code",
   "execution_count": null,
   "metadata": {
    "colab": {},
    "colab_type": "code",
    "id": "3C6o1uAhjFgV"
   },
   "outputs": [],
   "source": [
    "hermite.sample_banded_model(size_N=500)\n",
    "hermite.hist(normalization=True)"
   ]
  },
  {
   "cell_type": "markdown",
   "metadata": {
    "colab_type": "text",
    "id": "UdVcX5zOl9Dl"
   },
   "source": [
    "The tridiagonal matrix model can have $\\beta \\in \\mathbb{R}_+$."
   ]
  },
  {
   "cell_type": "code",
   "execution_count": null,
   "metadata": {
    "colab": {},
    "colab_type": "code",
    "id": "xb6Rv_i3l9bt"
   },
   "outputs": [],
   "source": [
    "# beta can be >= 0, default beta=2\n",
    "hermite.beta= 5.43  # Or hermite = HermiteEnsemble(beta=5.43)\n",
    "# Reference measure is N(mu, sigma^2)\n",
    "hermite.sample_banded_model(loc=0.0, scale=1.0, size_N=500)\n",
    "# hermite.plot(normalization=True)\n",
    "hermite.hist(normalization=True)"
   ]
  },
  {
   "cell_type": "markdown",
   "metadata": {},
   "source": [
    "When $\\beta=0$, the Hermite ensemble is a set of i.i.d. Gaussians."
   ]
  },
  {
   "cell_type": "code",
   "execution_count": null,
   "metadata": {},
   "outputs": [],
   "source": [
    "# beta can be >= 0, default beta=2\n",
    "hermite.beta= 0  # Or hermite = HermiteEnsemble(beta=5.43)\n",
    "# Reference measure is N(mu, sigma^2)\n",
    "hermite.sample_banded_model(size_N=1000)\n",
    "# hermite.plot(normalization=True)\n",
    "hermite.hist(normalization=True)  # True: N(0,2) as in full matrix model"
   ]
  },
  {
   "cell_type": "markdown",
   "metadata": {
    "colab_type": "text",
    "id": "1GAlE1x7jIbb"
   },
   "source": [
    "### The Laguerre ensemble"
   ]
  },
  {
   "cell_type": "markdown",
   "metadata": {},
   "source": [
    "Loosely speaking, the Laguerre ensemble is a repulsive version of points drawn i.i.d. from a Gamma distribution.\n",
    "\n",
    "It also characterizes the eigenvalue distribution of the covariance matrix built from i.i.d. Gaussian vectors."
   ]
  },
  {
   "cell_type": "code",
   "execution_count": null,
   "metadata": {},
   "outputs": [],
   "source": [
    "from dppy.beta_ensembles import LaguerreEnsemble\n",
    "\n",
    "laguerre = LaguerreEnsemble(beta=1)  # beta can be >= 0, default beta=2"
   ]
  },
  {
   "cell_type": "markdown",
   "metadata": {
    "colab_type": "text",
    "id": "zgdCBYnUoukN"
   },
   "source": [
    "There is again a dense matrix model for $\\beta \\in \\{0, 1, 2, 4\\}$."
   ]
  },
  {
   "cell_type": "code",
   "execution_count": null,
   "metadata": {
    "colab": {},
    "colab_type": "code",
    "id": "oxOEi1y1oxU-"
   },
   "outputs": [],
   "source": [
    "laguerre.sample_full_model(size_N=500, size_M=800)  # M >= N\n",
    "# laguerre.plot(normalization=True)\n",
    "laguerre.hist(normalization=True)"
   ]
  },
  {
   "cell_type": "markdown",
   "metadata": {},
   "source": [
    "There is again a tridiagonal model that is faster to run."
   ]
  },
  {
   "cell_type": "code",
   "execution_count": null,
   "metadata": {
    "colab": {},
    "colab_type": "code",
    "id": "oxOEi1y1oxU-"
   },
   "outputs": [],
   "source": [
    "laguerre.sample_banded_model(size_N=500, size_M=800)\n",
    "laguerre.hist(normalization=True)"
   ]
  },
  {
   "cell_type": "markdown",
   "metadata": {
    "colab_type": "text",
    "id": "5fIdJHxAoukP"
   },
   "source": [
    "And, again, the tridiagonal matrix model can feature more general values of the parameter $\\beta \\in \\mathbb{R}_+$."
   ]
  },
  {
   "cell_type": "code",
   "execution_count": null,
   "metadata": {
    "colab": {},
    "colab_type": "code",
    "id": "4H8Zn19xoukQ"
   },
   "outputs": [],
   "source": [
    "laguerre.beta = 2.98  # Or laguerre = LaguerreEnsemble(beta=2.98)\n",
    "# Reference measure is Gamma(k, theta)\n",
    "laguerre.sample_banded_model(shape=600, scale=2.0, size_N=400)\n",
    "# laguerre.plot(normalization=True)\n",
    "laguerre.hist(normalization=True)"
   ]
  },
  {
   "cell_type": "markdown",
   "metadata": {},
   "source": [
    "Finally, when $\\beta=0$, the Laguerre ensemble boils down to i.i.d. $\\Gamma(k,\\theta)$ variables. "
   ]
  },
  {
   "cell_type": "code",
   "execution_count": null,
   "metadata": {},
   "outputs": [],
   "source": [
    "laguerre.beta = 0 \n",
    "# Reference measure is Gamma(k, theta)\n",
    "laguerre.sample_banded_model(shape=6, scale=4.0, size_N=1000)\n",
    "# laguerre.plot(normalization=True)\n",
    "laguerre.hist(normalization=True)  # True: Gamma(shape, 2) as in full matrix model"
   ]
  },
  {
   "cell_type": "markdown",
   "metadata": {
    "colab_type": "text",
    "id": "iU8f6mqHjKaH"
   },
   "source": [
    "### The Jacobi ensemble"
   ]
  },
  {
   "cell_type": "markdown",
   "metadata": {},
   "source": [
    "Loosely speaking, the Jacobi ensemble is a repulsive version of points drawn i.i.d. from a beta law."
   ]
  },
  {
   "cell_type": "code",
   "execution_count": null,
   "metadata": {
    "colab": {},
    "colab_type": "code",
    "id": "zEpR6Tf_oxU8"
   },
   "outputs": [],
   "source": [
    "from dppy.beta_ensembles import JacobiEnsemble\n",
    "\n",
    "jacobi = JacobiEnsemble(beta=2)  # beta can be >= 0, default beta=2"
   ]
  },
  {
   "cell_type": "markdown",
   "metadata": {
    "colab_type": "text",
    "id": "7AlsA7CEoxU-"
   },
   "source": [
    "Again, there is a dense matrix model for $\\beta \\in \\{0, 1, 2, 4\\}$."
   ]
  },
  {
   "cell_type": "code",
   "execution_count": null,
   "metadata": {
    "colab": {},
    "colab_type": "code",
    "id": "zEpR6Tf_oxU8"
   },
   "outputs": [],
   "source": [
    "jacobi.sample_full_model(size_N=400, size_M1=500, size_M2=600)  # M_1, M_2 >= N\n",
    "# jacobi.plot(normalization=True)\n",
    "jacobi.hist(normalization=True)"
   ]
  },
  {
   "cell_type": "markdown",
   "metadata": {},
   "source": [
    "Again, there is a faster tridiagonal model."
   ]
  },
  {
   "cell_type": "code",
   "execution_count": null,
   "metadata": {
    "colab": {},
    "colab_type": "code",
    "id": "zEpR6Tf_oxU8"
   },
   "outputs": [],
   "source": [
    "jacobi.sample_banded_model(size_N=400, size_M1=500, size_M2=600)\n",
    "jacobi.hist(normalization=True)"
   ]
  },
  {
   "cell_type": "markdown",
   "metadata": {
    "colab_type": "text",
    "id": "N_nwy3G7oxVC"
   },
   "source": [
    "Again, the tridiagonal model can feature more general values of the parameter $\\beta \\in \\mathbb{R}_+$."
   ]
  },
  {
   "cell_type": "code",
   "execution_count": null,
   "metadata": {
    "colab": {},
    "colab_type": "code",
    "id": "L4vvZE09oxVD"
   },
   "outputs": [],
   "source": [
    "# beta can be >= 0, default beta=2\n",
    "jacobi.beta = 3.14  # Or jacobi = JacobiEnsemble(beta=3.14) \n",
    "# Reference measure is Beta(a,b)\n",
    "jacobi.sample_banded_model(a=500, b=300, size_N=400)\n",
    "# jacobi.plot(normalization=True)\n",
    "jacobi.hist(normalization=True)"
   ]
  },
  {
   "cell_type": "markdown",
   "metadata": {},
   "source": [
    "And again, $\\beta=0$ boils down to drawing i.i.d. $\\operatorname{Beta}(a,b)$ random variables."
   ]
  },
  {
   "cell_type": "code",
   "execution_count": null,
   "metadata": {},
   "outputs": [],
   "source": [
    "jacobi.beta = 0 \n",
    "# Reference measure is Beta(a, b)\n",
    "jacobi.sample_banded_model(a=6, b=4, size_N=1000)\n",
    "# jacobi.plot(normalization=True)\n",
    "jacobi.hist(normalization=True)  # True/False: Beta(a, b)"
   ]
  },
  {
   "cell_type": "markdown",
   "metadata": {},
   "source": [
    "### The Ginibre ensemble\n",
    "\n",
    "This one is defined for $\\beta = 2$ only, and is usually defined by its dense matrix model. It corresponds to the eigenvalues of a matrix filled with i.i.d. complex unit Gaussians."
   ]
  },
  {
   "cell_type": "code",
   "execution_count": null,
   "metadata": {},
   "outputs": [],
   "source": [
    "from dppy.beta_ensembles import GinibreEnsemble\n",
    "\n",
    "ginibre = GinibreEnsemble()  # beta must be 2 (default)"
   ]
  },
  {
   "cell_type": "code",
   "execution_count": null,
   "metadata": {},
   "outputs": [],
   "source": [
    "ginibre.sample_full_model(size_N=40)\n",
    "ginibre.plot(normalization=True)"
   ]
  },
  {
   "cell_type": "markdown",
   "metadata": {
    "colab_type": "text",
    "id": "vVHCEGLEW_VN"
   },
   "source": [
    "# Tools behind the scene\n",
    "\n",
    "---\n",
    "\n",
    "\n",
    "This collaborative project is hosted on [GitHub](https://github.com/guilgautier/DPPy). **Feel free to contribute!** Start by raising an issue to indicate your suggestion or need.\n",
    "\n",
    "There is a companion paper [DPPy_paper](https://github.com/guilgautier/DPPy_paper) to this toolbox, please **cite it if you use the toolbox**.\n",
    "\n",
    "Finally, the documentation is on ReadTheDocs [![Documentation Status](https://readthedocs.org/projects/dppy/badge/?version=latest)](https://dppy.readthedocs.io/en/latest/?badge=latest)\n",
    "and continuous integration is guaranteed using Travis [![Build Status](https://travis-ci.com/guilgautier/DPPy.svg?branch=master)](https://travis-ci.com/guilgautier/DPPy)"
   ]
  },
  {
   "cell_type": "code",
   "execution_count": null,
   "metadata": {},
   "outputs": [],
   "source": []
  }
 ],
 "metadata": {
  "anaconda-cloud": {},
  "colab": {
   "collapsed_sections": [
    "Q12BjnKoucEq",
    "0eZbIbGwpKXw",
    "j8Z0KEZdxq_f",
    "ysnn747E04q8",
    "g4pzjDKhpBNd",
    "HYcJ2I1-pBNi",
    "KjMLG766JjlZ",
    "1GAlE1x7jIbb",
    "zgdCBYnUoukN",
    "5fIdJHxAoukP",
    "iU8f6mqHjKaH",
    "7AlsA7CEoxU-",
    "N_nwy3G7oxVC",
    "zQeHhkxZCewN",
    "wYxj7IepX7ag",
    "O9PX6gXkYCLZ",
    "ljKpQ-ByWlGJ",
    "nCR9jFCja7He",
    "hgcvUD60uIYR",
    "wHNVWQvFaVvr",
    "S1pOXnbarps3"
   ],
   "name": "Tuto_DPPy.ipynb",
   "provenance": [],
   "version": "0.3.2"
  },
  "kernelspec": {
   "display_name": "Python 3 (ipykernel)",
   "language": "python",
   "name": "python3"
  },
  "language_info": {
   "codemirror_mode": {
    "name": "ipython",
    "version": 3
   },
   "file_extension": ".py",
   "mimetype": "text/x-python",
   "name": "python",
   "nbconvert_exporter": "python",
   "pygments_lexer": "ipython3",
   "version": "3.9.6"
  },
  "toc": {
   "base_numbering": 1,
   "nav_menu": {
    "height": "512px",
    "width": "252px"
   },
   "number_sections": true,
   "sideBar": false,
   "skip_h1_title": false,
   "title_cell": "Table of Contents",
   "title_sidebar": "Contents",
   "toc_cell": true,
   "toc_position": {
    "height": "356.438px",
    "left": "687.469px",
    "right": "20px",
    "top": "110px",
    "width": "449.141px"
   },
   "toc_section_display": false,
   "toc_window_display": false
  }
 },
 "nbformat": 4,
 "nbformat_minor": 4
}
